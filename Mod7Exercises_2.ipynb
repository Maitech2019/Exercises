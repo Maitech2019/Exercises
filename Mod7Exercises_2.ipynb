{
  "cells": [
    {
      "metadata": {},
      "cell_type": "markdown",
      "source": "# Module 7 Exercises - Linear Regression"
    },
    {
      "metadata": {},
      "cell_type": "markdown",
      "source": "### Exercise 1:\n\nUsing the pandas library, in the datasets folder load the gradedata.csv file as a dataframe. Narrow your data (make the dataframe smaller) by choosing columns that you think can help predict student grades. Use any method that you've learned so far to help your decision on which columns to keep. "
    },
    {
      "metadata": {
        "trusted": true,
        "scrolled": true
      },
      "cell_type": "code",
      "source": "import pandas as pd\nimport numpy as np\nimport sklearn\nfrom sklearn.linear_model import LinearRegression\n\nlocation = \"datasets/gradedata.csv\"\ndf = pd.read_csv(location)\ndf.head()",
      "execution_count": 39,
      "outputs": [
        {
          "output_type": "execute_result",
          "execution_count": 39,
          "data": {
            "text/plain": "     fname     lname  gender  age  exercise  hours  grade  \\\n0   Marcia      Pugh  female   17         3     10   82.4   \n1   Kadeem  Morrison    male   18         4      4   78.2   \n2     Nash    Powell    male   18         5      9   79.3   \n3  Noelani    Wagner  female   14         2      7   83.2   \n4  Noelani    Cherry  female   18         4     15   87.4   \n\n                                    address  \n0   9253 Richardson Road, Matawan, NJ 07747  \n1          33 Spring Dr., Taunton, MA 02780  \n2          41 Hill Avenue, Mentor, OH 44060  \n3        8839 Marshall St., Miami, FL 33125  \n4  8304 Charles Rd., Lewis Center, OH 43035  ",
            "text/html": "<div>\n<table border=\"1\" class=\"dataframe\">\n  <thead>\n    <tr style=\"text-align: right;\">\n      <th></th>\n      <th>fname</th>\n      <th>lname</th>\n      <th>gender</th>\n      <th>age</th>\n      <th>exercise</th>\n      <th>hours</th>\n      <th>grade</th>\n      <th>address</th>\n    </tr>\n  </thead>\n  <tbody>\n    <tr>\n      <th>0</th>\n      <td>Marcia</td>\n      <td>Pugh</td>\n      <td>female</td>\n      <td>17</td>\n      <td>3</td>\n      <td>10</td>\n      <td>82.4</td>\n      <td>9253 Richardson Road, Matawan, NJ 07747</td>\n    </tr>\n    <tr>\n      <th>1</th>\n      <td>Kadeem</td>\n      <td>Morrison</td>\n      <td>male</td>\n      <td>18</td>\n      <td>4</td>\n      <td>4</td>\n      <td>78.2</td>\n      <td>33 Spring Dr., Taunton, MA 02780</td>\n    </tr>\n    <tr>\n      <th>2</th>\n      <td>Nash</td>\n      <td>Powell</td>\n      <td>male</td>\n      <td>18</td>\n      <td>5</td>\n      <td>9</td>\n      <td>79.3</td>\n      <td>41 Hill Avenue, Mentor, OH 44060</td>\n    </tr>\n    <tr>\n      <th>3</th>\n      <td>Noelani</td>\n      <td>Wagner</td>\n      <td>female</td>\n      <td>14</td>\n      <td>2</td>\n      <td>7</td>\n      <td>83.2</td>\n      <td>8839 Marshall St., Miami, FL 33125</td>\n    </tr>\n    <tr>\n      <th>4</th>\n      <td>Noelani</td>\n      <td>Cherry</td>\n      <td>female</td>\n      <td>18</td>\n      <td>4</td>\n      <td>15</td>\n      <td>87.4</td>\n      <td>8304 Charles Rd., Lewis Center, OH 43035</td>\n    </tr>\n  </tbody>\n</table>\n</div>"
          },
          "metadata": {}
        }
      ]
    },
    {
      "metadata": {
        "trusted": true,
        "scrolled": true
      },
      "cell_type": "code",
      "source": "df2 = df.drop([\"fname\", \"lname\", \"address\"], axis = 1)\ndf2.head()",
      "execution_count": 40,
      "outputs": [
        {
          "output_type": "execute_result",
          "execution_count": 40,
          "data": {
            "text/plain": "   gender  age  exercise  hours  grade\n0  female   17         3     10   82.4\n1    male   18         4      4   78.2\n2    male   18         5      9   79.3\n3  female   14         2      7   83.2\n4  female   18         4     15   87.4",
            "text/html": "<div>\n<table border=\"1\" class=\"dataframe\">\n  <thead>\n    <tr style=\"text-align: right;\">\n      <th></th>\n      <th>gender</th>\n      <th>age</th>\n      <th>exercise</th>\n      <th>hours</th>\n      <th>grade</th>\n    </tr>\n  </thead>\n  <tbody>\n    <tr>\n      <th>0</th>\n      <td>female</td>\n      <td>17</td>\n      <td>3</td>\n      <td>10</td>\n      <td>82.4</td>\n    </tr>\n    <tr>\n      <th>1</th>\n      <td>male</td>\n      <td>18</td>\n      <td>4</td>\n      <td>4</td>\n      <td>78.2</td>\n    </tr>\n    <tr>\n      <th>2</th>\n      <td>male</td>\n      <td>18</td>\n      <td>5</td>\n      <td>9</td>\n      <td>79.3</td>\n    </tr>\n    <tr>\n      <th>3</th>\n      <td>female</td>\n      <td>14</td>\n      <td>2</td>\n      <td>7</td>\n      <td>83.2</td>\n    </tr>\n    <tr>\n      <th>4</th>\n      <td>female</td>\n      <td>18</td>\n      <td>4</td>\n      <td>15</td>\n      <td>87.4</td>\n    </tr>\n  </tbody>\n</table>\n</div>"
          },
          "metadata": {}
        }
      ]
    },
    {
      "metadata": {},
      "cell_type": "markdown",
      "source": "### Exercise 2:\n\nUsing the dataframe in the exercise above, clean and prepare your data. This means to eliminate any null (missing) values (either by dropping or filling them) and to transform any data column types to numerical values that a model can interpret. For example, if the column has string values, convert them to integers that best represent their order."
    },
    {
      "metadata": {
        "trusted": true
      },
      "cell_type": "code",
      "source": "df3 = pd.get_dummies(data=df2, columns=['gender'], drop_first=True)\ndf3.head()",
      "execution_count": 42,
      "outputs": [
        {
          "output_type": "execute_result",
          "execution_count": 42,
          "data": {
            "text/plain": "   age  exercise  hours  grade  gender_male\n0   17         3     10   82.4            0\n1   18         4      4   78.2            1\n2   18         5      9   79.3            1\n3   14         2      7   83.2            0\n4   18         4     15   87.4            0",
            "text/html": "<div>\n<table border=\"1\" class=\"dataframe\">\n  <thead>\n    <tr style=\"text-align: right;\">\n      <th></th>\n      <th>age</th>\n      <th>exercise</th>\n      <th>hours</th>\n      <th>grade</th>\n      <th>gender_male</th>\n    </tr>\n  </thead>\n  <tbody>\n    <tr>\n      <th>0</th>\n      <td>17</td>\n      <td>3</td>\n      <td>10</td>\n      <td>82.4</td>\n      <td>0</td>\n    </tr>\n    <tr>\n      <th>1</th>\n      <td>18</td>\n      <td>4</td>\n      <td>4</td>\n      <td>78.2</td>\n      <td>1</td>\n    </tr>\n    <tr>\n      <th>2</th>\n      <td>18</td>\n      <td>5</td>\n      <td>9</td>\n      <td>79.3</td>\n      <td>1</td>\n    </tr>\n    <tr>\n      <th>3</th>\n      <td>14</td>\n      <td>2</td>\n      <td>7</td>\n      <td>83.2</td>\n      <td>0</td>\n    </tr>\n    <tr>\n      <th>4</th>\n      <td>18</td>\n      <td>4</td>\n      <td>15</td>\n      <td>87.4</td>\n      <td>0</td>\n    </tr>\n  </tbody>\n</table>\n</div>"
          },
          "metadata": {}
        }
      ]
    },
    {
      "metadata": {
        "trusted": true
      },
      "cell_type": "code",
      "source": "df3.rename(columns={'gender_male': 'male'}, inplace =True)\ndf3.head()",
      "execution_count": 43,
      "outputs": [
        {
          "output_type": "execute_result",
          "execution_count": 43,
          "data": {
            "text/plain": "   age  exercise  hours  grade  male\n0   17         3     10   82.4     0\n1   18         4      4   78.2     1\n2   18         5      9   79.3     1\n3   14         2      7   83.2     0\n4   18         4     15   87.4     0",
            "text/html": "<div>\n<table border=\"1\" class=\"dataframe\">\n  <thead>\n    <tr style=\"text-align: right;\">\n      <th></th>\n      <th>age</th>\n      <th>exercise</th>\n      <th>hours</th>\n      <th>grade</th>\n      <th>male</th>\n    </tr>\n  </thead>\n  <tbody>\n    <tr>\n      <th>0</th>\n      <td>17</td>\n      <td>3</td>\n      <td>10</td>\n      <td>82.4</td>\n      <td>0</td>\n    </tr>\n    <tr>\n      <th>1</th>\n      <td>18</td>\n      <td>4</td>\n      <td>4</td>\n      <td>78.2</td>\n      <td>1</td>\n    </tr>\n    <tr>\n      <th>2</th>\n      <td>18</td>\n      <td>5</td>\n      <td>9</td>\n      <td>79.3</td>\n      <td>1</td>\n    </tr>\n    <tr>\n      <th>3</th>\n      <td>14</td>\n      <td>2</td>\n      <td>7</td>\n      <td>83.2</td>\n      <td>0</td>\n    </tr>\n    <tr>\n      <th>4</th>\n      <td>18</td>\n      <td>4</td>\n      <td>15</td>\n      <td>87.4</td>\n      <td>0</td>\n    </tr>\n  </tbody>\n</table>\n</div>"
          },
          "metadata": {}
        }
      ]
    },
    {
      "metadata": {
        "trusted": true
      },
      "cell_type": "code",
      "source": "df3.describe()",
      "execution_count": 44,
      "outputs": [
        {
          "output_type": "execute_result",
          "execution_count": 44,
          "data": {
            "text/plain": "               age     exercise        hours        grade         male\ncount  2000.000000  2000.000000  2000.000000  2000.000000  2000.000000\nmean     16.578500     3.000500    10.988500    82.556050     0.500000\nstd       1.696254     1.423205     4.063942     9.747593     0.500125\nmin      14.000000     0.000000     0.000000    32.000000     0.000000\n25%      15.000000     2.000000     8.000000    75.575000     0.000000\n50%      17.000000     3.000000    11.000000    82.700000     0.500000\n75%      18.000000     4.000000    14.000000    89.700000     1.000000\nmax      19.000000     5.000000    20.000000   100.000000     1.000000",
            "text/html": "<div>\n<table border=\"1\" class=\"dataframe\">\n  <thead>\n    <tr style=\"text-align: right;\">\n      <th></th>\n      <th>age</th>\n      <th>exercise</th>\n      <th>hours</th>\n      <th>grade</th>\n      <th>male</th>\n    </tr>\n  </thead>\n  <tbody>\n    <tr>\n      <th>count</th>\n      <td>2000.000000</td>\n      <td>2000.000000</td>\n      <td>2000.000000</td>\n      <td>2000.000000</td>\n      <td>2000.000000</td>\n    </tr>\n    <tr>\n      <th>mean</th>\n      <td>16.578500</td>\n      <td>3.000500</td>\n      <td>10.988500</td>\n      <td>82.556050</td>\n      <td>0.500000</td>\n    </tr>\n    <tr>\n      <th>std</th>\n      <td>1.696254</td>\n      <td>1.423205</td>\n      <td>4.063942</td>\n      <td>9.747593</td>\n      <td>0.500125</td>\n    </tr>\n    <tr>\n      <th>min</th>\n      <td>14.000000</td>\n      <td>0.000000</td>\n      <td>0.000000</td>\n      <td>32.000000</td>\n      <td>0.000000</td>\n    </tr>\n    <tr>\n      <th>25%</th>\n      <td>15.000000</td>\n      <td>2.000000</td>\n      <td>8.000000</td>\n      <td>75.575000</td>\n      <td>0.000000</td>\n    </tr>\n    <tr>\n      <th>50%</th>\n      <td>17.000000</td>\n      <td>3.000000</td>\n      <td>11.000000</td>\n      <td>82.700000</td>\n      <td>0.500000</td>\n    </tr>\n    <tr>\n      <th>75%</th>\n      <td>18.000000</td>\n      <td>4.000000</td>\n      <td>14.000000</td>\n      <td>89.700000</td>\n      <td>1.000000</td>\n    </tr>\n    <tr>\n      <th>max</th>\n      <td>19.000000</td>\n      <td>5.000000</td>\n      <td>20.000000</td>\n      <td>100.000000</td>\n      <td>1.000000</td>\n    </tr>\n  </tbody>\n</table>\n</div>"
          },
          "metadata": {}
        }
      ]
    },
    {
      "metadata": {
        "trusted": true
      },
      "cell_type": "code",
      "source": "df3.isnull().sum()",
      "execution_count": 45,
      "outputs": [
        {
          "output_type": "execute_result",
          "execution_count": 45,
          "data": {
            "text/plain": "age         0\nexercise    0\nhours       0\ngrade       0\nmale        0\ndtype: int64"
          },
          "metadata": {}
        }
      ]
    },
    {
      "metadata": {},
      "cell_type": "markdown",
      "source": "### Exercise 3:\n\nUsing the cleaned dataframe in the exercise above, use the sklearn library to split the data into training and test datasets. Make the test size 30%."
    },
    {
      "metadata": {
        "trusted": true
      },
      "cell_type": "code",
      "source": "X = df3.drop(\"grade\", axis=1)\nY = df3[\"grade\"]",
      "execution_count": 29,
      "outputs": []
    },
    {
      "metadata": {
        "trusted": true
      },
      "cell_type": "code",
      "source": "X.head()",
      "execution_count": 30,
      "outputs": [
        {
          "output_type": "execute_result",
          "execution_count": 30,
          "data": {
            "text/plain": "   age  exercise  hours  male\n0   17         3     10     0\n1   18         4      4     1\n2   18         5      9     1\n3   14         2      7     0\n4   18         4     15     0",
            "text/html": "<div>\n<table border=\"1\" class=\"dataframe\">\n  <thead>\n    <tr style=\"text-align: right;\">\n      <th></th>\n      <th>age</th>\n      <th>exercise</th>\n      <th>hours</th>\n      <th>male</th>\n    </tr>\n  </thead>\n  <tbody>\n    <tr>\n      <th>0</th>\n      <td>17</td>\n      <td>3</td>\n      <td>10</td>\n      <td>0</td>\n    </tr>\n    <tr>\n      <th>1</th>\n      <td>18</td>\n      <td>4</td>\n      <td>4</td>\n      <td>1</td>\n    </tr>\n    <tr>\n      <th>2</th>\n      <td>18</td>\n      <td>5</td>\n      <td>9</td>\n      <td>1</td>\n    </tr>\n    <tr>\n      <th>3</th>\n      <td>14</td>\n      <td>2</td>\n      <td>7</td>\n      <td>0</td>\n    </tr>\n    <tr>\n      <th>4</th>\n      <td>18</td>\n      <td>4</td>\n      <td>15</td>\n      <td>0</td>\n    </tr>\n  </tbody>\n</table>\n</div>"
          },
          "metadata": {}
        }
      ]
    },
    {
      "metadata": {
        "trusted": true
      },
      "cell_type": "code",
      "source": "Y.head()",
      "execution_count": 31,
      "outputs": [
        {
          "output_type": "execute_result",
          "execution_count": 31,
          "data": {
            "text/plain": "0    82.4\n1    78.2\n2    79.3\n3    83.2\n4    87.4\nName: grade, dtype: float64"
          },
          "metadata": {}
        }
      ]
    },
    {
      "metadata": {
        "trusted": true
      },
      "cell_type": "code",
      "source": "X_train, X_test, y_train, y_test = sklearn.model_selection.train_test_split(X, Y, test_size=0.3, random_state = 10)\n\nprint(X_train.shape)\nprint(X_test.shape)\nprint(y_train.shape)\nprint(y_test.shape)",
      "execution_count": 32,
      "outputs": [
        {
          "output_type": "stream",
          "text": "(1400, 4)\n(600, 4)\n(1400,)\n(600,)\n",
          "name": "stdout"
        }
      ]
    },
    {
      "metadata": {},
      "cell_type": "markdown",
      "source": "### Exercise 4:\n\nUsing the training data from the previous exercise, set a linear regression function to fit the data (build the model)."
    },
    {
      "metadata": {
        "trusted": true
      },
      "cell_type": "code",
      "source": "lm = LinearRegression()\n\nlm.fit(X_train, y_train)",
      "execution_count": 34,
      "outputs": [
        {
          "output_type": "execute_result",
          "execution_count": 34,
          "data": {
            "text/plain": "LinearRegression(copy_X=True, fit_intercept=True, n_jobs=1, normalize=False)"
          },
          "metadata": {}
        }
      ]
    },
    {
      "metadata": {},
      "cell_type": "markdown",
      "source": "### Exercise 5:\n\nWhat is the intercept coefficient (y-intercept) for the linear regression model?"
    },
    {
      "metadata": {
        "trusted": true
      },
      "cell_type": "code",
      "source": "lm.intercept_",
      "execution_count": 35,
      "outputs": [
        {
          "output_type": "execute_result",
          "execution_count": 35,
          "data": {
            "text/plain": "57.56939978204882"
          },
          "metadata": {}
        }
      ]
    },
    {
      "metadata": {},
      "cell_type": "markdown",
      "source": "### Exercise 6:\n\nUse the predict function on the training data and the test data."
    },
    {
      "metadata": {
        "trusted": true
      },
      "cell_type": "code",
      "source": "pred_train = lm.predict(X_train)\npred_test = lm.predict(X_test)\n\nprint(pred_train[:3])\nprint(pred_test[:3])",
      "execution_count": 37,
      "outputs": [
        {
          "output_type": "stream",
          "text": "[75.43520487 70.7069889  76.32075166]\n[86.16503067 87.48589372 67.71795141]\n",
          "name": "stdout"
        }
      ]
    },
    {
      "metadata": {},
      "cell_type": "markdown",
      "source": "### Exercise 7:\n\nCalculate the MSE (mean squared error) of the training and test predictions. How \"good\" was the linear regression model at predicting the test data compared to the training data?"
    },
    {
      "metadata": {
        "trusted": true
      },
      "cell_type": "code",
      "source": "print ('Fit a model X_train, and calculate MSE with Y_train:', np.mean((y_train - lm.predict(X_train)) ** 2))\n\nprint ('Fit a model X_test, and calculate MSE with Y_test:', np.mean((y_test - lm.predict(X_test)) ** 2))",
      "execution_count": 38,
      "outputs": [
        {
          "output_type": "stream",
          "text": "Fit a model X_train, and calculate MSE with Y_train: 32.162703612683714\nFit a model X_test, and calculate MSE with Y_test: 31.245631088363965\n",
          "name": "stdout"
        }
      ]
    },
    {
      "metadata": {},
      "cell_type": "markdown",
      "source": "# trainMSE is most commonly going to be lower than testMSE\n# if trainMSE is MUCH lower than testMSE, this could be a sign of overfitting\n# if trainMSE is MUCH higher than testMSE, your model could use some work\n\n# the scores for test predictions are always going to be more important to look at!"
    },
    {
      "metadata": {
        "trusted": true
      },
      "cell_type": "code",
      "source": "",
      "execution_count": null,
      "outputs": []
    }
  ],
  "metadata": {
    "kernelspec": {
      "name": "python3",
      "display_name": "Python 3",
      "language": "python"
    },
    "language_info": {
      "mimetype": "text/x-python",
      "nbconvert_exporter": "python",
      "name": "python",
      "pygments_lexer": "ipython3",
      "version": "3.5.4",
      "file_extension": ".py",
      "codemirror_mode": {
        "version": 3,
        "name": "ipython"
      }
    }
  },
  "nbformat": 4,
  "nbformat_minor": 2
}